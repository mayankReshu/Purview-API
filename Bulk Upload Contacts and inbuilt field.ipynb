{
 "cells": [
  {
   "cell_type": "code",
   "execution_count": null,
   "id": "ef72a272",
   "metadata": {},
   "outputs": [],
   "source": [
    "#name\tqualifiedName\ttypeName\texperts\towners\tdescription\n",
    "\n",
    "from azure.identity import DefaultAzureCredential\n",
    "from azure.identity import ClientSecretCredential \n",
    "import json\n",
    "from pyapacheatlas.readers import ExcelConfiguration, ExcelReader\n",
    "from pyapacheatlas.core import PurviewClient\n",
    "\n",
    "import datetime\n",
    "\n",
    "Start_time = datetime.datetime.now()\n",
    "print(Start_time)\n",
    "\n",
    "client_id = \"\" \n",
    "client_secret = \"\" \n",
    "tenant_id = \"\" \n",
    "\n",
    "\n",
    "my_account_name = \"{get-from-portal-url}\"\n",
    "\n",
    "credential = ClientSecretCredential(tenant_id= tenant_id, client_id= client_id, client_secret= client_secret)\n",
    "\n",
    "client = PurviewClient(account_name = \"{get-from-portal-url}\", authentication = credential)\n",
    "\n",
    "\n",
    "ec = ExcelConfiguration()\n",
    "reader = ExcelReader(ec)\n",
    "\n",
    "entities = reader.parse_bulk_entities(\"C:/Users/Mayank/Desktop/Mayank/xyz.xlsx\")\n",
    "\n",
    "\n",
    "results = client.upload_entities(entities)\n",
    "\n",
    "print(\"Process Done\")\n",
    "\n",
    "Finish_time = datetime.datetime.now()\n",
    "print(Finish_time)\n",
    "\n",
    "Time_Took = Finish_time - Start_time\n",
    "\n",
    "print(\"Time Taken: \", Time_Took)      \n",
    "\n",
    "print(json.dumps(results,indent=2))"
   ]
  }
 ],
 "metadata": {
  "kernelspec": {
   "display_name": "Python 3 (ipykernel)",
   "language": "python",
   "name": "python3"
  },
  "language_info": {
   "codemirror_mode": {
    "name": "ipython",
    "version": 3
   },
   "file_extension": ".py",
   "mimetype": "text/x-python",
   "name": "python",
   "nbconvert_exporter": "python",
   "pygments_lexer": "ipython3",
   "version": "3.11.4"
  }
 },
 "nbformat": 4,
 "nbformat_minor": 5
}
