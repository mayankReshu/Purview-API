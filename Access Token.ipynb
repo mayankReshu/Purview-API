{
 "cells": [
  {
   "cell_type": "code",
   "execution_count": null,
   "id": "a9311b05",
   "metadata": {},
   "outputs": [],
   "source": [
    "#https://learn.microsoft.com/en-us/purview/tutorial-using-rest-apis\n",
    "import requests\n",
    "import json\n",
    "url = 'https://login.microsoftonline.com/{your-tenant-id}/oauth2/token'\n",
    "payload = {\"client_id\" : \"{}\", \n",
    "                          \"client_secret\" : \"{}\", \n",
    "                          \"grant_type\" : \"client_credentials\", \n",
    "                          \"resource\": \"https://purview.azure.net\"}\n",
    "r = requests.post(url, data = payload)\n",
    "\n",
    " \n",
    "\n",
    "json_object = json.loads(r.content)\n",
    "print(json_object[\"access_token\"])"
   ]
  }
 ],
 "metadata": {
  "kernelspec": {
   "display_name": "Python 3 (ipykernel)",
   "language": "python",
   "name": "python3"
  },
  "language_info": {
   "codemirror_mode": {
    "name": "ipython",
    "version": 3
   },
   "file_extension": ".py",
   "mimetype": "text/x-python",
   "name": "python",
   "nbconvert_exporter": "python",
   "pygments_lexer": "ipython3",
   "version": "3.11.4"
  }
 },
 "nbformat": 4,
 "nbformat_minor": 5
}
